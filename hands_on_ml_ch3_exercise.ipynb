{
  "nbformat": 4,
  "nbformat_minor": 0,
  "metadata": {
    "colab": {
      "provenance": [],
      "authorship_tag": "ABX9TyPtdTcCeXBbbRBNqALEU2Ah",
      "include_colab_link": true
    },
    "kernelspec": {
      "name": "python3",
      "display_name": "Python 3"
    },
    "language_info": {
      "name": "python"
    }
  },
  "cells": [
    {
      "cell_type": "markdown",
      "metadata": {
        "id": "view-in-github",
        "colab_type": "text"
      },
      "source": [
        "<a href=\"https://colab.research.google.com/github/jungsoo2004/eqsim/blob/master/hands_on_ml_ch3_exercise.ipynb\" target=\"_parent\"><img src=\"https://colab.research.google.com/assets/colab-badge.svg\" alt=\"Open In Colab\"/></a>"
      ]
    },
    {
      "cell_type": "markdown",
      "source": [
        "#1. MNIST 데이터셋으로 분류기를 만들어 테스트 세트에서 97% 정확도를 달성해보세요"
      ],
      "metadata": {
        "id": "4knC73oF7pPN"
      }
    },
    {
      "cell_type": "code",
      "source": [
        "from sklearn.datasets import fetch_openml\n",
        "import pandas as pd\n",
        "import numpy as np\n",
        "\n",
        "\n",
        "mnist = fetch_openml('mnist_784', as_frame=False)\n",
        "\n",
        "X, y = mnist.data, mnist.target"
      ],
      "metadata": {
        "id": "2TfqhMyj7xVH"
      },
      "execution_count": 1,
      "outputs": []
    },
    {
      "cell_type": "code",
      "source": [
        "import matplotlib.pyplot as plt\n",
        "\n",
        "def ordinal_image(image_data):\n",
        "  image = image_data.reshape(28, 28)\n",
        "  plt.imshow(image, cmap=\"binary\")\n",
        "  plt.axis(\"off\")\n",
        "\n",
        "ordinal_image(X[3])\n",
        "print(y[3])"
      ],
      "metadata": {
        "colab": {
          "base_uri": "https://localhost:8080/",
          "height": 424
        },
        "id": "ZFit6WJd-G1_",
        "outputId": "a95a35fc-ecd5-4610-c18b-2a990eb4a735"
      },
      "execution_count": 2,
      "outputs": [
        {
          "output_type": "stream",
          "name": "stdout",
          "text": [
            "1\n"
          ]
        },
        {
          "output_type": "display_data",
          "data": {
            "text/plain": [
              "<Figure size 640x480 with 1 Axes>"
            ],
            "image/png": "[encoded data removed]"
          },
          "metadata": {}
        }
      ]
    },
    {
      "cell_type": "code",
      "source": [
        "X_train, X_test, y_train, y_test = X[:60000], X[60000:], y[:60000], y[60000:]"
      ],
      "metadata": {
        "id": "1UArjej4C-mP"
      },
      "execution_count": 3,
      "outputs": []
    },
    {
      "cell_type": "code",
      "source": [
        "'''\n",
        "from sklearn.preprocessing import StandardScaler\n",
        "\n",
        "scaler = StandardScaler(with_mean=False)    # sparse matrix의 희소성을 깨지 않기 위해\n",
        "scaled_X_train = scaler.fit_transform(X_train)\n",
        "'''"
      ],
      "metadata": {
        "id": "JHTChUQ4m9BC"
      },
      "execution_count": 36,
      "outputs": []
    },
    {
      "cell_type": "code",
      "source": [
        "unique_labels, counts = np.unique(y_train, return_counts=True)\n",
        "print(unique_labels)\n",
        "print(counts)"
      ],
      "metadata": {
        "colab": {
          "base_uri": "https://localhost:8080/"
        },
        "id": "_tu8sW0g5gXS",
        "outputId": "5af1dd50-f3d0-456e-f6ac-cf0ecb614249"
      },
      "execution_count": 4,
      "outputs": [
        {
          "output_type": "stream",
          "name": "stdout",
          "text": [
            "['0' '1' '2' '3' '4' '5' '6' '7' '8' '9']\n",
            "[5923 6742 5958 6131 5842 5421 5918 6265 5851 5949]\n"
          ]
        }
      ]
    },
    {
      "cell_type": "markdown",
      "source": [
        "train_set이 60000개로 학습 시간이 너무 길어져서 첫 5000개만 이용하여 하이퍼파라미터 튜닝을 진행하려고 함. 모든 label들의 분포가 거의 일정하므로 각 500개씩 추출해서 reduced_train_set 만들기"
      ],
      "metadata": {
        "id": "nCygf2R27af-"
      }
    },
    {
      "cell_type": "code",
      "source": [
        "total_indices = []\n",
        "for label in unique_labels:\n",
        "  label_indices = np.where(y_train == label)[0]\n",
        "\n",
        "  sampled_indices = np.random.choice(label_indices, 500, replace=False)\n",
        "\n",
        "  for index in sampled_indices:\n",
        "    total_indices.append(index)\n",
        "\n",
        "final_indices = np.array(total_indices)\n",
        "reduced_train_X = X_train[final_indices]\n",
        "reduced_train_Y = y_train[final_indices]"
      ],
      "metadata": {
        "id": "K-hZ93yE7xSt"
      },
      "execution_count": 5,
      "outputs": []
    },
    {
      "cell_type": "code",
      "source": [
        "reduced_train_X"
      ],
      "metadata": {
        "colab": {
          "base_uri": "https://localhost:8080/"
        },
        "id": "alqFAmgG-Ttr",
        "outputId": "70115832-61f1-420c-b10f-1a1fde20f8a2"
      },
      "execution_count": 7,
      "outputs": [
        {
          "output_type": "execute_result",
          "data": {
            "text/plain": [
              "array([[0, 0, 0, ..., 0, 0, 0],\n",
              "       [0, 0, 0, ..., 0, 0, 0],\n",
              "       [0, 0, 0, ..., 0, 0, 0],\n",
              "       ...,\n",
              "       [0, 0, 0, ..., 0, 0, 0],\n",
              "       [0, 0, 0, ..., 0, 0, 0],\n",
              "       [0, 0, 0, ..., 0, 0, 0]])"
            ]
          },
          "metadata": {},
          "execution_count": 7
        }
      ]
    },
    {
      "cell_type": "code",
      "source": [
        "from sklearn.neighbors import KNeighborsClassifier\n",
        "from sklearn.model_selection import GridSearchCV\n",
        "\n",
        "knn = KNeighborsClassifier()\n",
        "param_grid = {\n",
        "    'n_neighbors': [3,5,7],\n",
        "    'weights': ['uniform', 'distance']\n",
        "}\n",
        "\n",
        "grid_search = GridSearchCV(knn, param_grid=param_grid, scoring='accuracy', cv=3)\n",
        "grid_search.fit(reduced_train_X, reduced_train_Y)\n",
        "grid_search.best_params_"
      ],
      "metadata": {
        "colab": {
          "base_uri": "https://localhost:8080/"
        },
        "id": "p-hDgiG7FXb4",
        "outputId": "ed800f7c-cf8c-4441-a91d-791e63ef7d1c"
      },
      "execution_count": 7,
      "outputs": [
        {
          "output_type": "execute_result",
          "data": {
            "text/plain": [
              "{'n_neighbors': 3, 'weights': 'distance'}"
            ]
          },
          "metadata": {},
          "execution_count": 7
        }
      ]
    },
    {
      "cell_type": "code",
      "source": [
        "knn_predictor = KNeighborsClassifier(n_neighbors=3, weights='distance')\n",
        "knn_predictor.fit(X_train, y_train)\n",
        "test_prediction = knn_predictor.predict(X_test)"
      ],
      "metadata": {
        "id": "MeO5VTXLMUgl"
      },
      "execution_count": 8,
      "outputs": []
    },
    {
      "cell_type": "code",
      "source": [
        "correct_answer_num = sum(test_prediction == y_test)\n",
        "accuracy = correct_answer_num / y_test.size\n",
        "# from sklearn.metrics import accuracy_score\n",
        "# accuracy = accuracy_score(y_test, test_prediction)\n",
        "accuracy"
      ],
      "metadata": {
        "colab": {
          "base_uri": "https://localhost:8080/"
        },
        "id": "BwCp5P_mzQrP",
        "outputId": "ee19bf73-252f-4212-b852-60250a75491b"
      },
      "execution_count": 9,
      "outputs": [
        {
          "output_type": "execute_result",
          "data": {
            "text/plain": [
              "0.9717"
            ]
          },
          "metadata": {},
          "execution_count": 9
        }
      ]
    },
    {
      "cell_type": "markdown",
      "source": [
        "#2. MNIST 이미지를 (왼, 오른, 위, 아래) 어느 방향으로든 한 픽셀 이동시킬 수 있는 함수를 만들어보세요. 그런 다음 훈련 세트에 있는 각 이미지에 대해 네 개의 이동된 복사본(방향마다 한 개씩)을 만들어 훈련 세트에 추가하세요. 마지막으로 이 확장된 데이터셋에서 앞에서 찾은 최선의 모델을 훈련시키고 테스트 세트에서 정확도를 측정해보세요. 모델 성능이 더 높아졌는지 확인해보세요!(data augmentation을 진행해보세요)"
      ],
      "metadata": {
        "id": "g7MZK7-30vOn"
      }
    },
    {
      "cell_type": "code",
      "source": [
        "def move_images(images, direction):\n",
        "  moved_images = images.copy()\n",
        "  if direction == 'left':\n",
        "    for image in moved_images:\n",
        "      for i in range(len(image)):\n",
        "        if image[i] > 0:\n",
        "          image[i-1] = image[i]\n",
        "          image[i] = 0\n",
        "  elif direction == 'right':\n",
        "    for image in moved_images:\n",
        "      for i in range(len(image)-2, -1, -1):  # 거꾸로 순회\n",
        "        if image[i] > 0:\n",
        "          image[i+1] = image[i]\n",
        "          image[i] = 0\n",
        "  elif direction == 'up':\n",
        "    for i in range(1, len(moved_images)):\n",
        "      image_size = len(moved_images[i])\n",
        "      for j in range(image_size):\n",
        "        if moved_images[i][j] > 0:\n",
        "          moved_images[i-1][j] = moved_images[i][j]\n",
        "          moved_images[i][j] = 0\n",
        "  else:  # down\n",
        "    for i in range(len(moved_images)-2, -1, -1):\n",
        "      image_size = len(moved_images[i])\n",
        "      for j in range(image_size):\n",
        "        if moved_images[i][j] > 0:\n",
        "          moved_images[i+1][j] = moved_images[i][j]\n",
        "          moved_images[i][j] = 0\n",
        "\n",
        "  return np.array(moved_images)\n",
        "\n",
        "\n",
        "\n",
        "# chatgpt는 numpy의 기능을 이용. 시간 복잡도는 동일하지만 상수 계수에서 큰 차이가 나므로 밑의 코드가 훨씬 빠름. numpy의 벡터화 연산이 굉장히 빠르다는 것을 알고있자.\n",
        "'''\n",
        "import numpy as np\n",
        "\n",
        "def move_images(images, direction):\n",
        "    images = np.array(images)  # NumPy 배열로 변환\n",
        "    moved_images = np.zeros_like(images)  # 이동 후 결과를 저장할 배열\n",
        "\n",
        "    if direction == 'left':\n",
        "        # 각 행의 값을 한 칸 왼쪽으로 이동\n",
        "        moved_images[:, :-1] = images[:, 1:]\n",
        "    elif direction == 'right':\n",
        "        # 각 행의 값을 한 칸 오른쪽으로 이동\n",
        "        moved_images[:, 1:] = images[:, :-1]\n",
        "    elif direction == 'up':\n",
        "        # 각 열의 값을 한 칸 위로 이동\n",
        "        moved_images[:-1, :] = images[1:, :]\n",
        "    elif direction == 'down':\n",
        "        # 각 열의 값을 한 칸 아래로 이동\n",
        "        moved_images[1:, :] = images[:-1, :]\n",
        "\n",
        "    return moved_images\n",
        "'''"
      ],
      "metadata": {
        "colab": {
          "base_uri": "https://localhost:8080/",
          "height": 88
        },
        "id": "6GlODUok0bVA",
        "outputId": "1c9e4931-8887-4927-b07c-1102a4293745"
      },
      "execution_count": 23,
      "outputs": [
        {
          "output_type": "execute_result",
          "data": {
            "text/plain": [
              "\"\\nimport numpy as np\\n\\ndef move_images(images, direction):\\n    images = np.array(images)  # NumPy 배열로 변환\\n    moved_images = np.zeros_like(images)  # 이동 후 결과를 저장할 배열\\n\\n    if direction == 'left':\\n        # 각 행의 값을 한 칸 왼쪽으로 이동\\n        moved_images[:, :-1] = images[:, 1:]\\n    elif direction == 'right':\\n        # 각 행의 값을 한 칸 오른쪽으로 이동\\n        moved_images[:, 1:] = images[:, :-1]\\n    elif direction == 'up':\\n        # 각 열의 값을 한 칸 위로 이동\\n        moved_images[:-1, :] = images[1:, :]\\n    elif direction == 'down':\\n        # 각 열의 값을 한 칸 아래로 이동\\n        moved_images[1:, :] = images[:-1, :]\\n\\n    return moved_images\\n\""
            ],
            "application/vnd.google.colaboratory.intrinsic+json": {
              "type": "string"
            }
          },
          "metadata": {},
          "execution_count": 23
        }
      ]
    },
    {
      "cell_type": "code",
      "source": [
        "augmentated_X_train = []\n",
        "augmentated_y_train = []\n",
        "\n",
        "for image in X_train:\n",
        "  augmentated_X_train.append(image)\n",
        "\n",
        "for _ in range(5):\n",
        "  for label in y_train:\n",
        "    augmentated_y_train.append(label)\n",
        "\n",
        "left = move_images(X_train, 'left')\n",
        "for image in left:\n",
        "  augmentated_X_train.append(image)\n",
        "\n",
        "right = move_images(X_train, 'right')\n",
        "for image in right:\n",
        "  augmentated_X_train.append(image)\n",
        "\n",
        "up = move_images(X_train, 'up')\n",
        "for image in up:\n",
        "  augmentated_X_train.append(image)\n",
        "\n",
        "down = move_images(X_train, 'down')\n",
        "for image in down:\n",
        "  augmentated_X_train.append(image)"
      ],
      "metadata": {
        "id": "uwcA7PmVrF9q"
      },
      "execution_count": 20,
      "outputs": []
    },
    {
      "cell_type": "code",
      "source": [
        "augmentated_predictor = KNeighborsClassifier(n_neighbors=3, weights='distance')\n",
        "augmentated_predictor.fit(np.array(augmentated_X_train), np.array(augmentated_y_train))\n",
        "test_prediction = augmentated_predictor.predict(X_test)"
      ],
      "metadata": {
        "id": "ZflYBSP4wh-t"
      },
      "execution_count": 21,
      "outputs": []
    },
    {
      "cell_type": "code",
      "source": [
        "correct_answer_num = sum(test_prediction == y_test)\n",
        "accuracy = correct_answer_num / y_test.size\n",
        "# from sklearn.metrics import accuracy_score\n",
        "# accuracy = accuracy_score(y_test, test_prediction)\n",
        "accuracy"
      ],
      "metadata": {
        "colab": {
          "base_uri": "https://localhost:8080/"
        },
        "id": "8VD1GhPTy8JH",
        "outputId": "547411c0-02ce-47ca-97c9-8ac612a6188b"
      },
      "execution_count": 22,
      "outputs": [
        {
          "output_type": "execute_result",
          "data": {
            "text/plain": [
              "0.5978"
            ]
          },
          "metadata": {},
          "execution_count": 22
        }
      ]
    },
    {
      "cell_type": "markdown",
      "source": [
        "#3. titanic 데이터셋에 도전해보세요. (https://www.kaggle.com/c/titanic) 데이터를 다운로드하고, 2장의 주택 데이터셋에서 했던 것처럼 압축을 풀면 train.csv, test.csv가 생성됩니다. 이 파일을 pandas.read_csv로 로드할 수 있습니다. 다른 열을 이용하여 survived 열을 예측하는 분류기를 훈련하는 것이 목표입니다"
      ],
      "metadata": {
        "id": "HTZeNA6J006y"
      }
    },
    {
      "cell_type": "code",
      "source": [],
      "metadata": {
        "id": "cC3-NljU0NY4"
      },
      "execution_count": null,
      "outputs": []
    }
  ]
}